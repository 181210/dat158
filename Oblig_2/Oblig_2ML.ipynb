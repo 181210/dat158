{
 "cells": [
  {
   "cell_type": "markdown",
   "metadata": {},
   "source": [
    "# **Dogs vs. Cats Redux: Kernels Edition** \n",
    "\n",
    "<img src=\"img/dog_vs_cat.jpg\" width=\"620\" height=\"351\" align=\"center\"/>"
   ]
  },
  {
   "cell_type": "markdown",
   "metadata": {},
   "source": [
    "##### In 2013 Kaggle hosted the original dogs versus cats challenge as a for-fun competition. Rumour has it that the lack of an online coding environment lead to approached sharing by scratching primitive glpyhs on cave walls with sticks and sharp objects. Now the classification problem is reintroduced back on Kaggle as a playground competition with kernels enabled. Although modern techniques may make light of this once-difficult problem, it is through practice of new techniques on old datasets that we will make light of machine learning's future challenges.\n",
    "\n",
    "##### The rule is simple: The train folder contains 25,000 images of dogs and cats. Each image in this folder has the label as part of the filename. The test folder contains 12,500 images, named according to a numeric id. For each image in the test set, you should predict a probability that the image is a dog (1 = dog, 0 = cat)."
   ]
  },
  {
   "cell_type": "markdown",
   "metadata": {},
   "source": [
    "## **References**\n",
    "\n",
    "* ##### __[Kaggle](https://www.kaggle.com/c/dogs-vs-cats-redux-kernels-edition)__ - Source for discussion on data and solutions presented. \n",
    "* ##### TBN\n",
    "* ##### TBN\n",
    "* ##### TBN\n",
    "* ##### TBN"
   ]
  },
  {
   "cell_type": "markdown",
   "metadata": {},
   "source": [
    "## **Strategies**\n",
    "\n",
    "##### The data consist of 25 000 images, 12 500 of dogs and 12 000 of cats. Classifier, deep learning, CNN (Convolutional Neural Network)....TODO\n",
    "\n",
    "<img src=\"img/ml_map.png\" width=\"2122\" height=\"1323\" align=\"center\"/>"
   ]
  },
  {
   "cell_type": "code",
   "execution_count": null,
   "metadata": {},
   "outputs": [],
   "source": []
  },
  {
   "cell_type": "markdown",
   "metadata": {},
   "source": [
    "## **Prerequisitions**\n",
    "\n",
    "##### **Technologies:**\n",
    "##### Deep Learning/CNN: Keras, TensorFlow ....TODO\n",
    "##### **HW:**\n",
    "##### GPU --> __[GTX 1080Ti](https://developer.nvidia.com/cuda-gpus)__\n",
    "##### CPU --> Intel i7 7700k\n",
    "##### RAM --> 16GB 3200MHz \n",
    "##### **SW:**\n",
    "##### __[CUDA 9.2](https://docs.nvidia.com/cuda/archive/9.2/)__\n",
    "##### __[Nvidia Docker](https://github.com/NVIDIA/nvidia-docker)__\n",
    "##### __[Docker ML Environment](https://github.com/181192/P030-MLDockerEnv)__\n",
    "##### **DATA:**\n",
    "##### __[Dataset](https://www.kaggle.com/c/dogs-vs-cats-redux-kernels-edition/data)__\n",
    "##### Layers of a picture, quality, size, how images are processed. \n"
   ]
  },
  {
   "cell_type": "markdown",
   "metadata": {},
   "source": [
    "## **Setup**"
   ]
  },
  {
   "cell_type": "markdown",
   "metadata": {},
   "source": [
    "##### TODO - Import all libs"
   ]
  },
  {
   "cell_type": "markdown",
   "metadata": {},
   "source": [
    "## **Get the data**"
   ]
  },
  {
   "cell_type": "markdown",
   "metadata": {},
   "source": [
    "##### Import data from folder, divide into test/train"
   ]
  },
  {
   "cell_type": "markdown",
   "metadata": {},
   "source": [
    "## **Gain insights**"
   ]
  },
  {
   "cell_type": "markdown",
   "metadata": {},
   "source": [
    "##### Look at the data to gain understanding. Image size matters? RGB or less layers for easier processing?"
   ]
  },
  {
   "cell_type": "markdown",
   "metadata": {},
   "source": [
    "## **Prepare the data**"
   ]
  },
  {
   "cell_type": "markdown",
   "metadata": {},
   "source": [
    "##### Prepare the data for ML"
   ]
  },
  {
   "cell_type": "markdown",
   "metadata": {},
   "source": [
    "## **Select model and train**"
   ]
  },
  {
   "cell_type": "markdown",
   "metadata": {},
   "source": [
    "##### Prepare the CNN -> TensorFlow"
   ]
  },
  {
   "cell_type": "markdown",
   "metadata": {},
   "source": [
    "## **Fine tuning**"
   ]
  },
  {
   "cell_type": "markdown",
   "metadata": {},
   "source": [
    "##### Tune hyperparameters, loss function, back propagation, look at and evaluate the outcome of the model -> overfitting? Less layers? ect"
   ]
  },
  {
   "cell_type": "markdown",
   "metadata": {},
   "source": [
    "## **Present solution**"
   ]
  },
  {
   "cell_type": "markdown",
   "metadata": {},
   "source": [
    "##### Submissions are scored on the log loss:\n",
    "\n",
    "##### LogLoss=−1n∑i=1n[yilog(y^i)+(1−yi)log(1−y^i)],\n",
    "\n",
    "##### where\n",
    "\n",
    "* #####    n     : is the number of images in the test set\n",
    "* #####    y^i   : is the predicted probability of the image being a dog\n",
    "* #####    yi    : is 1 if the image is a dog, 0 if cat\n",
    "* #####    log() : is the natural (base e) logarithm\n",
    "\n",
    "##### A smaller log loss is better."
   ]
  },
  {
   "cell_type": "markdown",
   "metadata": {},
   "source": [
    "## **Conclusion**"
   ]
  },
  {
   "cell_type": "markdown",
   "metadata": {},
   "source": [
    "##### This model is based on binary classification of dog and cat images. Transferred learning to another binary classification project could be applicable. The obvious weakness is that if the model is presented with a photo that is not of either a dog or a cat its limitation would classify it as one or another due to the architecture of the network. If it's not a dog, it's a cat and vice verca. "
   ]
  },
  {
   "cell_type": "markdown",
   "metadata": {},
   "source": []
  },
  {
   "cell_type": "code",
   "execution_count": null,
   "metadata": {},
   "outputs": [],
   "source": []
  }
 ],
 "metadata": {
  "kernelspec": {
   "display_name": "Python 3",
   "language": "python",
   "name": "python3"
  },
  "language_info": {
   "codemirror_mode": {
    "name": "ipython",
    "version": 3
   },
   "file_extension": ".py",
   "mimetype": "text/x-python",
   "name": "python",
   "nbconvert_exporter": "python",
   "pygments_lexer": "ipython3",
   "version": "3.6.6"
  }
 },
 "nbformat": 4,
 "nbformat_minor": 2
}
